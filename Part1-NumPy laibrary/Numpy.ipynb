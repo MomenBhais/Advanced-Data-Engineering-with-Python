{
 "cells": [
  {
   "cell_type": "markdown",
   "id": "ea771d25-b079-4b55-ad85-5365b13fa706",
   "metadata": {},
   "source": [
    "## Numpy"
   ]
  },
  {
   "cell_type": "code",
   "execution_count": 26,
   "id": "dfe50919-ad0d-4398-b57b-a71bb6baa24a",
   "metadata": {},
   "outputs": [
    {
     "name": "stdout",
     "output_type": "stream",
     "text": [
      "Requirement already satisfied: numpy in c:\\users\\lenovo\\anaconda3\\lib\\site-packages (1.26.4)\n"
     ]
    }
   ],
   "source": [
    "#install numpy library windows\n",
    "!pip install numpy"
   ]
  },
  {
   "cell_type": "code",
   "execution_count": null,
   "id": "1abbdd03-776b-4933-8bf9-405390e8f098",
   "metadata": {},
   "outputs": [],
   "source": [
    "#install numpy library linux\n",
    "!sudo apt-get install numpy"
   ]
  },
  {
   "cell_type": "code",
   "execution_count": null,
   "id": "9bc9db44-b272-4f7d-9fda-a781a9463e29",
   "metadata": {},
   "outputs": [],
   "source": [
    "#install numpy library mac\n",
    "pip3 install numpy"
   ]
  },
  {
   "cell_type": "code",
   "execution_count": 30,
   "id": "ceb7a723-0eeb-4c78-85a1-b3b633242833",
   "metadata": {},
   "outputs": [],
   "source": [
    "import numpy as np"
   ]
  },
  {
   "cell_type": "code",
   "execution_count": 32,
   "id": "393078b6-f9c0-47af-9007-37d903790660",
   "metadata": {},
   "outputs": [
    {
     "data": {
      "text/plain": [
       "'1.26.4'"
      ]
     },
     "execution_count": 32,
     "metadata": {},
     "output_type": "execute_result"
    }
   ],
   "source": [
    "np.__version__"
   ]
  },
  {
   "cell_type": "code",
   "execution_count": 34,
   "id": "c73ceb24-c48c-4b5f-8b12-9aec2d8a92be",
   "metadata": {},
   "outputs": [],
   "source": [
    "#Create numpy array --> 1D Arr , 1 row\n",
    "arr = np.array([1,2,3,4])"
   ]
  },
  {
   "cell_type": "code",
   "execution_count": 36,
   "id": "1148527f-67d6-4e8c-858f-17e58d238bcc",
   "metadata": {},
   "outputs": [
    {
     "data": {
      "text/plain": [
       "array([1, 2, 3, 4])"
      ]
     },
     "execution_count": 36,
     "metadata": {},
     "output_type": "execute_result"
    }
   ],
   "source": [
    "arr"
   ]
  },
  {
   "cell_type": "code",
   "execution_count": 38,
   "id": "149eaee0-7521-4312-a9cb-85920933eb96",
   "metadata": {},
   "outputs": [
    {
     "data": {
      "text/plain": [
       "numpy.ndarray"
      ]
     },
     "execution_count": 38,
     "metadata": {},
     "output_type": "execute_result"
    }
   ],
   "source": [
    "type(arr)"
   ]
  },
  {
   "cell_type": "code",
   "execution_count": 44,
   "id": "c19571c0-9ed3-40df-b060-179abe8a6079",
   "metadata": {},
   "outputs": [],
   "source": [
    "#Create numpy array --> 2D arr\n",
    "arr2 = np.array([[1,2,3],[4,5,6]])"
   ]
  },
  {
   "cell_type": "code",
   "execution_count": 42,
   "id": "d1a5f909-075d-4d64-9245-3533480bb4b3",
   "metadata": {},
   "outputs": [
    {
     "data": {
      "text/plain": [
       "array([[1, 2, 3],\n",
       "       [4, 5, 6]])"
      ]
     },
     "execution_count": 42,
     "metadata": {},
     "output_type": "execute_result"
    }
   ],
   "source": [
    "arr2"
   ]
  },
  {
   "cell_type": "code",
   "execution_count": 52,
   "id": "45de8597-abe5-4e2f-887a-32f11beed673",
   "metadata": {},
   "outputs": [],
   "source": [
    "#Create numpy array --> 3D arr\n",
    "arr3 = np.array([[[1,2,3],[4,5,6]],[[1,2,3],[4,5,6]]])"
   ]
  },
  {
   "cell_type": "code",
   "execution_count": 54,
   "id": "e6d826f9-0a89-4b37-b877-f4133c0c4a40",
   "metadata": {},
   "outputs": [
    {
     "data": {
      "text/plain": [
       "array([[[1, 2, 3],\n",
       "        [4, 5, 6]],\n",
       "\n",
       "       [[1, 2, 3],\n",
       "        [4, 5, 6]]])"
      ]
     },
     "execution_count": 54,
     "metadata": {},
     "output_type": "execute_result"
    }
   ],
   "source": [
    "arr3"
   ]
  },
  {
   "cell_type": "code",
   "execution_count": 58,
   "id": "c9d83fbc-fe15-4792-b1c9-5d96c7638474",
   "metadata": {},
   "outputs": [],
   "source": [
    "arr4 = np.array([])"
   ]
  },
  {
   "cell_type": "code",
   "execution_count": 60,
   "id": "26493a44-b526-485f-8bde-ff9408f98bb0",
   "metadata": {},
   "outputs": [
    {
     "data": {
      "text/plain": [
       "array([], dtype=float64)"
      ]
     },
     "execution_count": 60,
     "metadata": {},
     "output_type": "execute_result"
    }
   ],
   "source": [
    "arr4"
   ]
  },
  {
   "cell_type": "code",
   "execution_count": 70,
   "id": "9d0794b1-e639-43f4-80ef-6a843e81bc08",
   "metadata": {},
   "outputs": [
    {
     "data": {
      "text/plain": [
       "array([[0., 0., 0., 0.],\n",
       "       [0., 0., 0., 0.],\n",
       "       [0., 0., 0., 0.]])"
      ]
     },
     "execution_count": 70,
     "metadata": {},
     "output_type": "execute_result"
    }
   ],
   "source": [
    "#2D , 3 rows, 4 col , float\n",
    "a = np.zeros((3,4),dtype = float)\n",
    "a"
   ]
  },
  {
   "cell_type": "code",
   "execution_count": 78,
   "id": "358933a8-590e-453a-8839-0105b3b38709",
   "metadata": {},
   "outputs": [
    {
     "data": {
      "text/plain": [
       "array([[0, 0, 0, 0],\n",
       "       [0, 0, 0, 0],\n",
       "       [0, 0, 0, 0]])"
      ]
     },
     "execution_count": 78,
     "metadata": {},
     "output_type": "execute_result"
    }
   ],
   "source": [
    "#2D , 3 rows, 4 col , int\n",
    "a = np.zeros((3,4),dtype = int)\n",
    "a"
   ]
  },
  {
   "cell_type": "code",
   "execution_count": 80,
   "id": "c0cd09b1-b255-46e2-a36b-f567673cfda4",
   "metadata": {},
   "outputs": [
    {
     "data": {
      "text/plain": [
       "array([0, 0, 0, 0, 0])"
      ]
     },
     "execution_count": 80,
     "metadata": {},
     "output_type": "execute_result"
    }
   ],
   "source": [
    "#1D ,1row, 5 col , int\n",
    "a = np.zeros(5, dtype = int)\n",
    "a"
   ]
  },
  {
   "cell_type": "code",
   "execution_count": 90,
   "id": "9cd6178b-a25c-48a8-b2bb-1221737e4a70",
   "metadata": {},
   "outputs": [
    {
     "data": {
      "text/plain": [
       "array([[[0, 0, 0, 0, 0, 0, 0],\n",
       "        [0, 0, 0, 0, 0, 0, 0],\n",
       "        [0, 0, 0, 0, 0, 0, 0],\n",
       "        [0, 0, 0, 0, 0, 0, 0],\n",
       "        [0, 0, 0, 0, 0, 0, 0]],\n",
       "\n",
       "       [[0, 0, 0, 0, 0, 0, 0],\n",
       "        [0, 0, 0, 0, 0, 0, 0],\n",
       "        [0, 0, 0, 0, 0, 0, 0],\n",
       "        [0, 0, 0, 0, 0, 0, 0],\n",
       "        [0, 0, 0, 0, 0, 0, 0]],\n",
       "\n",
       "       [[0, 0, 0, 0, 0, 0, 0],\n",
       "        [0, 0, 0, 0, 0, 0, 0],\n",
       "        [0, 0, 0, 0, 0, 0, 0],\n",
       "        [0, 0, 0, 0, 0, 0, 0],\n",
       "        [0, 0, 0, 0, 0, 0, 0]]])"
      ]
     },
     "execution_count": 90,
     "metadata": {},
     "output_type": "execute_result"
    }
   ],
   "source": [
    "#3D ,3 arrays,5row,7col , int\n",
    "a = np.zeros((3,5,7), dtype = int)\n",
    "a"
   ]
  },
  {
   "cell_type": "code",
   "execution_count": 94,
   "id": "44987354-b9c6-4827-8a50-7b9cf11bf2d2",
   "metadata": {},
   "outputs": [
    {
     "data": {
      "text/plain": [
       "array([1, 1, 1, 1, 1, 1])"
      ]
     },
     "execution_count": 94,
     "metadata": {},
     "output_type": "execute_result"
    }
   ],
   "source": [
    "np.ones(6, dtype=int)"
   ]
  },
  {
   "cell_type": "code",
   "execution_count": 96,
   "id": "6e2b0acd-5f2f-4053-a5e2-68204c522495",
   "metadata": {},
   "outputs": [
    {
     "data": {
      "text/plain": [
       "array([[1, 1, 1],\n",
       "       [1, 1, 1],\n",
       "       [1, 1, 1],\n",
       "       [1, 1, 1],\n",
       "       [1, 1, 1],\n",
       "       [1, 1, 1]])"
      ]
     },
     "execution_count": 96,
     "metadata": {},
     "output_type": "execute_result"
    }
   ],
   "source": [
    "np.ones((6,3), dtype=int)"
   ]
  },
  {
   "cell_type": "code",
   "execution_count": 98,
   "id": "9eadb8e8-5562-4443-94a5-81f329c7401d",
   "metadata": {},
   "outputs": [
    {
     "data": {
      "text/plain": [
       "array([[[1, 1, 1],\n",
       "        [1, 1, 1],\n",
       "        [1, 1, 1],\n",
       "        [1, 1, 1],\n",
       "        [1, 1, 1],\n",
       "        [1, 1, 1]],\n",
       "\n",
       "       [[1, 1, 1],\n",
       "        [1, 1, 1],\n",
       "        [1, 1, 1],\n",
       "        [1, 1, 1],\n",
       "        [1, 1, 1],\n",
       "        [1, 1, 1]],\n",
       "\n",
       "       [[1, 1, 1],\n",
       "        [1, 1, 1],\n",
       "        [1, 1, 1],\n",
       "        [1, 1, 1],\n",
       "        [1, 1, 1],\n",
       "        [1, 1, 1]],\n",
       "\n",
       "       [[1, 1, 1],\n",
       "        [1, 1, 1],\n",
       "        [1, 1, 1],\n",
       "        [1, 1, 1],\n",
       "        [1, 1, 1],\n",
       "        [1, 1, 1]]])"
      ]
     },
     "execution_count": 98,
     "metadata": {},
     "output_type": "execute_result"
    }
   ],
   "source": [
    "np.ones((4,6,3), dtype=int)"
   ]
  },
  {
   "cell_type": "code",
   "execution_count": 100,
   "id": "651cd4d9-41a7-421a-9983-6563ce87b4a7",
   "metadata": {},
   "outputs": [
    {
     "data": {
      "text/plain": [
       "array([10, 11, 12, 13, 14, 15, 16, 17, 18, 19, 20, 21, 22, 23, 24, 25])"
      ]
     },
     "execution_count": 100,
     "metadata": {},
     "output_type": "execute_result"
    }
   ],
   "source": [
    "np.arange(10,26)"
   ]
  },
  {
   "cell_type": "code",
   "execution_count": 102,
   "id": "0e8d6ccb-2729-44fd-a638-66ad8fb45a56",
   "metadata": {},
   "outputs": [
    {
     "data": {
      "text/plain": [
       "array([10, 15, 20, 25])"
      ]
     },
     "execution_count": 102,
     "metadata": {},
     "output_type": "execute_result"
    }
   ],
   "source": [
    "np.arange(10,26,5) #start, stop , step"
   ]
  },
  {
   "cell_type": "code",
   "execution_count": 112,
   "id": "592a292e-4f1e-4b89-90d2-1a5402e93699",
   "metadata": {},
   "outputs": [
    {
     "data": {
      "text/plain": [
       "array([0. , 0.5, 1. , 1.5, 2. ])"
      ]
     },
     "execution_count": 112,
     "metadata": {},
     "output_type": "execute_result"
    }
   ],
   "source": [
    "np.arange(0,2.5,0.5)"
   ]
  },
  {
   "cell_type": "code",
   "execution_count": 114,
   "id": "0c9118c1-459b-4306-921f-9b0d345a54ff",
   "metadata": {},
   "outputs": [
    {
     "data": {
      "text/plain": [
       "array([0. , 0.5, 1. , 1.5, 2. ])"
      ]
     },
     "execution_count": 114,
     "metadata": {},
     "output_type": "execute_result"
    }
   ],
   "source": [
    "np.linspace(0,2,5)"
   ]
  },
  {
   "cell_type": "code",
   "execution_count": 116,
   "id": "8d446e68-f4d4-43d7-94d0-3e3cd8f9ba52",
   "metadata": {},
   "outputs": [
    {
     "data": {
      "text/plain": [
       "array([0.  , 0.25, 0.5 , 0.75, 1.  , 1.25, 1.5 , 1.75, 2.  ])"
      ]
     },
     "execution_count": 116,
     "metadata": {},
     "output_type": "execute_result"
    }
   ],
   "source": [
    "np.linspace(0,2,9)"
   ]
  },
  {
   "cell_type": "code",
   "execution_count": 118,
   "id": "6e0e9180-2ea8-4e79-9665-f47f0938d029",
   "metadata": {},
   "outputs": [
    {
     "data": {
      "text/plain": [
       "array([2, 2, 2, 2])"
      ]
     },
     "execution_count": 118,
     "metadata": {},
     "output_type": "execute_result"
    }
   ],
   "source": [
    "np.full((4),2)"
   ]
  },
  {
   "cell_type": "code",
   "execution_count": 120,
   "id": "81d2d35d-5f57-4f7c-ac35-fbebb5493968",
   "metadata": {},
   "outputs": [
    {
     "data": {
      "text/plain": [
       "array([[7, 7, 7],\n",
       "       [7, 7, 7],\n",
       "       [7, 7, 7],\n",
       "       [7, 7, 7]])"
      ]
     },
     "execution_count": 120,
     "metadata": {},
     "output_type": "execute_result"
    }
   ],
   "source": [
    "np.full((4,3),7)"
   ]
  },
  {
   "cell_type": "code",
   "execution_count": 122,
   "id": "c9ca33cc-df36-4c2c-9277-cee0ead56f6c",
   "metadata": {},
   "outputs": [
    {
     "data": {
      "text/plain": [
       "array([[[7, 7, 7],\n",
       "        [7, 7, 7],\n",
       "        [7, 7, 7],\n",
       "        [7, 7, 7]],\n",
       "\n",
       "       [[7, 7, 7],\n",
       "        [7, 7, 7],\n",
       "        [7, 7, 7],\n",
       "        [7, 7, 7]]])"
      ]
     },
     "execution_count": 122,
     "metadata": {},
     "output_type": "execute_result"
    }
   ],
   "source": [
    "np.full((2,4,3),7)"
   ]
  },
  {
   "cell_type": "code",
   "execution_count": 126,
   "id": "07629475-769a-4570-bf24-ff58f56655c9",
   "metadata": {},
   "outputs": [
    {
     "data": {
      "text/plain": [
       "array([[1., 0., 0., 0.],\n",
       "       [0., 1., 0., 0.],\n",
       "       [0., 0., 1., 0.],\n",
       "       [0., 0., 0., 1.]])"
      ]
     },
     "execution_count": 126,
     "metadata": {},
     "output_type": "execute_result"
    }
   ],
   "source": [
    "#identity matrix\n",
    "np.eye(4)"
   ]
  },
  {
   "cell_type": "code",
   "execution_count": 128,
   "id": "3d3ab722-ba8a-4e49-b6f3-4c5d0dd7946c",
   "metadata": {},
   "outputs": [
    {
     "data": {
      "text/plain": [
       "array([[1., 0., 0., 0., 0., 0., 0., 0.],\n",
       "       [0., 1., 0., 0., 0., 0., 0., 0.],\n",
       "       [0., 0., 1., 0., 0., 0., 0., 0.],\n",
       "       [0., 0., 0., 1., 0., 0., 0., 0.],\n",
       "       [0., 0., 0., 0., 1., 0., 0., 0.],\n",
       "       [0., 0., 0., 0., 0., 1., 0., 0.],\n",
       "       [0., 0., 0., 0., 0., 0., 1., 0.],\n",
       "       [0., 0., 0., 0., 0., 0., 0., 1.]])"
      ]
     },
     "execution_count": 128,
     "metadata": {},
     "output_type": "execute_result"
    }
   ],
   "source": [
    "np.eye(8)"
   ]
  },
  {
   "cell_type": "code",
   "execution_count": 130,
   "id": "71805e9e-3dae-4379-a417-60ecf45d6584",
   "metadata": {},
   "outputs": [
    {
     "data": {
      "text/plain": [
       "array([[0.95941725, 0.09469703],\n",
       "       [0.57618645, 0.92711508]])"
      ]
     },
     "execution_count": 130,
     "metadata": {},
     "output_type": "execute_result"
    }
   ],
   "source": [
    "# create random numbers form 0 : 1\n",
    "np.random.random((2,2))"
   ]
  },
  {
   "cell_type": "code",
   "execution_count": 132,
   "id": "6bbab1cc-7d57-4a2a-aeb6-00799d98db05",
   "metadata": {},
   "outputs": [
    {
     "data": {
      "text/plain": [
       "array([[0.93539078, 0.26851959, 0.53637142, 0.39991155, 0.66413201,\n",
       "        0.65807838],\n",
       "       [0.17029165, 0.45438863, 0.39176724, 0.56697275, 0.03980442,\n",
       "        0.17450989],\n",
       "       [0.67035003, 0.29096723, 0.55749988, 0.84202429, 0.47573234,\n",
       "        0.25877334],\n",
       "       [0.81643546, 0.89878833, 0.66329307, 0.31088716, 0.56664821,\n",
       "        0.7409901 ]])"
      ]
     },
     "execution_count": 132,
     "metadata": {},
     "output_type": "execute_result"
    }
   ],
   "source": [
    "np.random.random((4,6))"
   ]
  },
  {
   "cell_type": "code",
   "execution_count": 136,
   "id": "d733473a-1260-45e8-a7c9-e8d73c210494",
   "metadata": {},
   "outputs": [
    {
     "data": {
      "text/plain": [
       "array([[0.9184243 , 0.32454323],\n",
       "       [0.44425911, 0.30464619],\n",
       "       [0.24534529, 0.54591253]])"
      ]
     },
     "execution_count": 136,
     "metadata": {},
     "output_type": "execute_result"
    }
   ],
   "source": [
    "# create random numbers form 0 : 1\n",
    "np.random.rand(3,2)"
   ]
  },
  {
   "cell_type": "code",
   "execution_count": 138,
   "id": "ed83bbca-5c5e-4136-960a-afc5c8748b67",
   "metadata": {},
   "outputs": [
    {
     "data": {
      "text/plain": [
       "array([[ 1.92303303,  0.61641881],\n",
       "       [ 1.9122775 , -0.70461295],\n",
       "       [-1.37010104, -1.60449821]])"
      ]
     },
     "execution_count": 138,
     "metadata": {},
     "output_type": "execute_result"
    }
   ],
   "source": [
    "# create random numbers in normal dis \n",
    "np.random.randn(3,2)"
   ]
  },
  {
   "cell_type": "code",
   "execution_count": 140,
   "id": "b1e7c2ba-80c7-4d01-9b9d-ca760f5cd5b2",
   "metadata": {},
   "outputs": [
    {
     "data": {
      "text/plain": [
       "array([[47, 17, 12, 30],\n",
       "       [40, 28, 47, 11],\n",
       "       [30, 16,  8, 48],\n",
       "       [43, 11, 44, 27],\n",
       "       [21, 22,  9, 13]])"
      ]
     },
     "execution_count": 140,
     "metadata": {},
     "output_type": "execute_result"
    }
   ],
   "source": [
    "np.random.randint(low = 5, high= 50, size = (5,4))"
   ]
  },
  {
   "cell_type": "code",
   "execution_count": 142,
   "id": "10f427ee-196b-4756-bb4d-234b86c1c2bc",
   "metadata": {},
   "outputs": [
    {
     "data": {
      "text/plain": [
       "array([[1.92303303, 0.61641881],\n",
       "       [1.9122775 , 0.70461295],\n",
       "       [1.37010104, 1.60449821]])"
      ]
     },
     "execution_count": 142,
     "metadata": {},
     "output_type": "execute_result"
    }
   ],
   "source": [
    "np.empty((3,2))"
   ]
  },
  {
   "cell_type": "code",
   "execution_count": 146,
   "id": "29f7891d-68a8-486b-be2e-0621c38adb26",
   "metadata": {},
   "outputs": [
    {
     "data": {
      "text/plain": [
       "array([[1.30185787e-311, 1.01283457e-321, 0.00000000e+000,\n",
       "        0.00000000e+000, 2.41907520e-312, 1.16097020e-028],\n",
       "       [8.26440822e-072, 3.17976464e-028, 1.42516662e-071,\n",
       "        1.04917183e-153, 5.23081515e-143, 2.85372158e-056],\n",
       "       [3.92875831e-033, 2.22732776e+180, 1.64759679e+185,\n",
       "        7.49305113e-144, 3.59751658e+252, 1.46901661e+179],\n",
       "       [8.37404147e+242, 4.31999013e-096, 4.82337723e+228,\n",
       "        2.80652127e-032, 3.53305418e-057, 7.48494807e-091],\n",
       "       [1.10634868e-046, 7.31509113e-042, 5.04621343e+180,\n",
       "        1.94918963e-153, 1.14484251e+243, 2.59903827e-144]])"
      ]
     },
     "execution_count": 146,
     "metadata": {},
     "output_type": "execute_result"
    }
   ],
   "source": [
    "np.empty((5,6))"
   ]
  },
  {
   "cell_type": "code",
   "execution_count": 148,
   "id": "38ae4184-4798-4825-aab4-5cbc2f53190b",
   "metadata": {},
   "outputs": [
    {
     "data": {
      "text/plain": [
       "array([], dtype=float64)"
      ]
     },
     "execution_count": 148,
     "metadata": {},
     "output_type": "execute_result"
    }
   ],
   "source": [
    "np.array([])"
   ]
  },
  {
   "cell_type": "code",
   "execution_count": 150,
   "id": "a4ee66f6-02c1-4e5e-b886-aca1f69c3eca",
   "metadata": {},
   "outputs": [],
   "source": [
    "arr = np.full((3,5),8)"
   ]
  },
  {
   "cell_type": "code",
   "execution_count": 152,
   "id": "9e62e0ec-82ed-4bbe-a9ae-7274e39a058b",
   "metadata": {},
   "outputs": [
    {
     "data": {
      "text/plain": [
       "array([[8, 8, 8, 8, 8],\n",
       "       [8, 8, 8, 8, 8],\n",
       "       [8, 8, 8, 8, 8]])"
      ]
     },
     "execution_count": 152,
     "metadata": {},
     "output_type": "execute_result"
    }
   ],
   "source": [
    "arr"
   ]
  },
  {
   "cell_type": "code",
   "execution_count": 154,
   "id": "c05c76a3-ee2b-45e4-8c3f-105f7f35a1e4",
   "metadata": {},
   "outputs": [
    {
     "data": {
      "text/plain": [
       "(3, 5)"
      ]
     },
     "execution_count": 154,
     "metadata": {},
     "output_type": "execute_result"
    }
   ],
   "source": [
    "#(row,column)\n",
    "arr.shape"
   ]
  },
  {
   "cell_type": "code",
   "execution_count": 156,
   "id": "0e60999b-cf41-4c38-8cfa-f70f92e922ac",
   "metadata": {},
   "outputs": [
    {
     "data": {
      "text/plain": [
       "3"
      ]
     },
     "execution_count": 156,
     "metadata": {},
     "output_type": "execute_result"
    }
   ],
   "source": [
    "len(arr) # num of rows"
   ]
  },
  {
   "cell_type": "code",
   "execution_count": 158,
   "id": "6356138f-246a-437f-baae-2780def155ff",
   "metadata": {},
   "outputs": [
    {
     "data": {
      "text/plain": [
       "2"
      ]
     },
     "execution_count": 158,
     "metadata": {},
     "output_type": "execute_result"
    }
   ],
   "source": [
    "arr.ndim"
   ]
  },
  {
   "cell_type": "code",
   "execution_count": 160,
   "id": "0c377596-c5e8-4481-b27c-9621f5a8faf0",
   "metadata": {},
   "outputs": [
    {
     "data": {
      "text/plain": [
       "15"
      ]
     },
     "execution_count": 160,
     "metadata": {},
     "output_type": "execute_result"
    }
   ],
   "source": [
    "arr.size"
   ]
  },
  {
   "cell_type": "code",
   "execution_count": 162,
   "id": "910e0c26-5423-4ee2-adaf-a09ed33b745f",
   "metadata": {},
   "outputs": [
    {
     "data": {
      "text/plain": [
       "dtype('int32')"
      ]
     },
     "execution_count": 162,
     "metadata": {},
     "output_type": "execute_result"
    }
   ],
   "source": [
    "arr.dtype"
   ]
  },
  {
   "cell_type": "code",
   "execution_count": 164,
   "id": "c16b13ad-fc24-4f33-bcf1-92c257818f0a",
   "metadata": {},
   "outputs": [
    {
     "data": {
      "text/plain": [
       "'int32'"
      ]
     },
     "execution_count": 164,
     "metadata": {},
     "output_type": "execute_result"
    }
   ],
   "source": [
    "arr.dtype.name"
   ]
  },
  {
   "cell_type": "code",
   "execution_count": 176,
   "id": "0f9190bb-03c3-475a-9b51-70b65d3239cd",
   "metadata": {},
   "outputs": [
    {
     "data": {
      "text/plain": [
       "array([1. , 2.4, 5.9, 3. , 4. ])"
      ]
     },
     "execution_count": 176,
     "metadata": {},
     "output_type": "execute_result"
    }
   ],
   "source": [
    "a = np.array([1,2.4,5.9,3,4])\n",
    "a"
   ]
  },
  {
   "cell_type": "code",
   "execution_count": 178,
   "id": "a59c08bb-9949-48ac-876f-5b3063a356ee",
   "metadata": {},
   "outputs": [
    {
     "data": {
      "text/plain": [
       "dtype('float64')"
      ]
     },
     "execution_count": 178,
     "metadata": {},
     "output_type": "execute_result"
    }
   ],
   "source": [
    "a.dtype"
   ]
  },
  {
   "cell_type": "code",
   "execution_count": 180,
   "id": "3340823d-3578-403a-b4ff-a9ac36a050d0",
   "metadata": {},
   "outputs": [
    {
     "data": {
      "text/plain": [
       "array([1, 2, 5, 3, 4])"
      ]
     },
     "execution_count": 180,
     "metadata": {},
     "output_type": "execute_result"
    }
   ],
   "source": [
    "a = a.astype(int)\n",
    "a"
   ]
  },
  {
   "cell_type": "code",
   "execution_count": 186,
   "id": "3d6d4b72-4760-4fb9-ab2b-190396b0e4cb",
   "metadata": {},
   "outputs": [
    {
     "name": "stdout",
     "output_type": "stream",
     "text": [
      "Data-type of the array's elements.\n",
      "\n",
      ".. warning::\n",
      "\n",
      "    Setting ``arr.dtype`` is discouraged and may be deprecated in the\n",
      "    future.  Setting will replace the ``dtype`` without modifying the\n",
      "    memory (see also `ndarray.view` and `ndarray.astype`).\n",
      "\n",
      "Parameters\n",
      "----------\n",
      "None\n",
      "\n",
      "Returns\n",
      "-------\n",
      "d : numpy dtype object\n",
      "\n",
      "See Also\n",
      "--------\n",
      "ndarray.astype : Cast the values contained in the array to a new data-type.\n",
      "ndarray.view : Create a view of the same data but a different data-type.\n",
      "numpy.dtype\n",
      "\n",
      "Examples\n",
      "--------\n",
      ">>> x\n",
      "array([[0, 1],\n",
      "       [2, 3]])\n",
      ">>> x.dtype\n",
      "dtype('int32')\n",
      ">>> type(x.dtype)\n",
      "<type 'numpy.dtype'>\n"
     ]
    }
   ],
   "source": [
    "#ask for help\n",
    "np.info(np.ndarray.dtype)"
   ]
  },
  {
   "cell_type": "code",
   "execution_count": 188,
   "id": "b3c845e5-1894-4cfc-8719-31620f4e9b2f",
   "metadata": {},
   "outputs": [
    {
     "name": "stdout",
     "output_type": "stream",
     "text": [
      "Number of elements in the array.\n",
      "\n",
      "Equal to ``np.prod(a.shape)``, i.e., the product of the array's\n",
      "dimensions.\n",
      "\n",
      "Notes\n",
      "-----\n",
      "`a.size` returns a standard arbitrary precision Python integer. This\n",
      "may not be the case with other methods of obtaining the same value\n",
      "(like the suggested ``np.prod(a.shape)``, which returns an instance\n",
      "of ``np.int_``), and may be relevant if the value is used further in\n",
      "calculations that may overflow a fixed size integer type.\n",
      "\n",
      "Examples\n",
      "--------\n",
      ">>> x = np.zeros((3, 5, 2), dtype=np.complex128)\n",
      ">>> x.size\n",
      "30\n",
      ">>> np.prod(x.shape)\n",
      "30\n"
     ]
    }
   ],
   "source": [
    "#ask for help\n",
    "np.info(np.ndarray.size)"
   ]
  },
  {
   "cell_type": "code",
   "execution_count": 241,
   "id": "ec550ab8-6f2a-4f01-9b94-d5cb78da7afb",
   "metadata": {},
   "outputs": [],
   "source": [
    "#mathematicl operations\n",
    "a = np.array([1,2,3,4])\n",
    "b = np.array([5,2,7,8])"
   ]
  },
  {
   "cell_type": "code",
   "execution_count": 192,
   "id": "9a726267-17ef-495b-b4d7-a0c8af6f186b",
   "metadata": {},
   "outputs": [
    {
     "data": {
      "text/plain": [
       "array([ 6,  8, 10, 12])"
      ]
     },
     "execution_count": 192,
     "metadata": {},
     "output_type": "execute_result"
    }
   ],
   "source": [
    "a + b "
   ]
  },
  {
   "cell_type": "code",
   "execution_count": 194,
   "id": "0d80237f-58ca-40cf-9315-305e007b8a77",
   "metadata": {},
   "outputs": [
    {
     "data": {
      "text/plain": [
       "array([ 6,  8, 10, 12])"
      ]
     },
     "execution_count": 194,
     "metadata": {},
     "output_type": "execute_result"
    }
   ],
   "source": [
    "np.add(a,b)"
   ]
  },
  {
   "cell_type": "code",
   "execution_count": 196,
   "id": "81463983-f4de-43d8-acea-5919f6e130f9",
   "metadata": {},
   "outputs": [
    {
     "data": {
      "text/plain": [
       "array([-4, -4, -4, -4])"
      ]
     },
     "execution_count": 196,
     "metadata": {},
     "output_type": "execute_result"
    }
   ],
   "source": [
    "a-b"
   ]
  },
  {
   "cell_type": "code",
   "execution_count": 198,
   "id": "b3647e02-2a3d-4540-af6b-90cc0ec1497c",
   "metadata": {},
   "outputs": [
    {
     "data": {
      "text/plain": [
       "array([4, 4, 4, 4])"
      ]
     },
     "execution_count": 198,
     "metadata": {},
     "output_type": "execute_result"
    }
   ],
   "source": [
    "b-a"
   ]
  },
  {
   "cell_type": "code",
   "execution_count": 200,
   "id": "625abef9-b955-4e56-8330-43df24887343",
   "metadata": {},
   "outputs": [
    {
     "data": {
      "text/plain": [
       "array([4, 4, 4, 4])"
      ]
     },
     "execution_count": 200,
     "metadata": {},
     "output_type": "execute_result"
    }
   ],
   "source": [
    "np.subtract(b,a)"
   ]
  },
  {
   "cell_type": "code",
   "execution_count": 202,
   "id": "d61514d1-ae95-4bb3-be66-6fd2b86bd4b1",
   "metadata": {},
   "outputs": [
    {
     "data": {
      "text/plain": [
       "array([ 5, 12, 21, 32])"
      ]
     },
     "execution_count": 202,
     "metadata": {},
     "output_type": "execute_result"
    }
   ],
   "source": [
    "b*a"
   ]
  },
  {
   "cell_type": "code",
   "execution_count": 204,
   "id": "ddad7e20-f0b2-4559-a092-208dc2be69ea",
   "metadata": {},
   "outputs": [
    {
     "data": {
      "text/plain": [
       "array([ 5, 12, 21, 32])"
      ]
     },
     "execution_count": 204,
     "metadata": {},
     "output_type": "execute_result"
    }
   ],
   "source": [
    "np.multiply(a,b)"
   ]
  },
  {
   "cell_type": "code",
   "execution_count": 206,
   "id": "46472aab-1acc-4b9d-9504-b53ef7e26e02",
   "metadata": {},
   "outputs": [
    {
     "data": {
      "text/plain": [
       "array([0.2       , 0.33333333, 0.42857143, 0.5       ])"
      ]
     },
     "execution_count": 206,
     "metadata": {},
     "output_type": "execute_result"
    }
   ],
   "source": [
    "a/b"
   ]
  },
  {
   "cell_type": "code",
   "execution_count": 208,
   "id": "eb37a784-761d-48f1-9724-dfd763818f4c",
   "metadata": {},
   "outputs": [
    {
     "data": {
      "text/plain": [
       "array([5.        , 3.        , 2.33333333, 2.        ])"
      ]
     },
     "execution_count": 208,
     "metadata": {},
     "output_type": "execute_result"
    }
   ],
   "source": [
    "np.divide(b,a)"
   ]
  },
  {
   "cell_type": "code",
   "execution_count": 210,
   "id": "44edf47b-d2b9-431f-bded-4e1a071bf9de",
   "metadata": {},
   "outputs": [
    {
     "data": {
      "text/plain": [
       "array([1.        , 1.41421356, 1.73205081, 2.        ])"
      ]
     },
     "execution_count": 210,
     "metadata": {},
     "output_type": "execute_result"
    }
   ],
   "source": [
    "np.sqrt(a)"
   ]
  },
  {
   "cell_type": "code",
   "execution_count": 212,
   "id": "4d1a332c-2473-4cfb-997c-f88786e7e920",
   "metadata": {},
   "outputs": [
    {
     "data": {
      "text/plain": [
       "array([2.23606798, 2.44948974, 2.64575131, 2.82842712])"
      ]
     },
     "execution_count": 212,
     "metadata": {},
     "output_type": "execute_result"
    }
   ],
   "source": [
    "np.sqrt(b)"
   ]
  },
  {
   "cell_type": "code",
   "execution_count": 214,
   "id": "e471464d-984f-4637-92fc-5ee728e4a6c8",
   "metadata": {},
   "outputs": [
    {
     "name": "stdout",
     "output_type": "stream",
     "text": [
      "[ 0.84147098  0.90929743  0.14112001 -0.7568025 ]\n",
      "[ 0.28366219  0.96017029  0.75390225 -0.14550003]\n",
      "[0.         0.69314718 1.09861229 1.38629436]\n",
      "[ 148.4131591   403.42879349 1096.63315843 2980.95798704]\n"
     ]
    }
   ],
   "source": [
    "print(np.sin(a))\n",
    "print(np.cos(b))\n",
    "print(np.log(a))\n",
    "print(np.exp(b))"
   ]
  },
  {
   "cell_type": "code",
   "execution_count": 216,
   "id": "2dee3579-455e-4b20-a7d7-82b0c090e1fd",
   "metadata": {},
   "outputs": [
    {
     "data": {
      "text/plain": [
       "array([1, 2, 3, 4])"
      ]
     },
     "execution_count": 216,
     "metadata": {},
     "output_type": "execute_result"
    }
   ],
   "source": [
    "a"
   ]
  },
  {
   "cell_type": "code",
   "execution_count": 218,
   "id": "3f9ab1f1-0f20-484f-91f4-120ef7d970ff",
   "metadata": {},
   "outputs": [
    {
     "data": {
      "text/plain": [
       "array([5, 6, 7, 8])"
      ]
     },
     "execution_count": 218,
     "metadata": {},
     "output_type": "execute_result"
    }
   ],
   "source": [
    "b"
   ]
  },
  {
   "cell_type": "code",
   "execution_count": 222,
   "id": "37914003-df56-42b6-af70-47672c19f098",
   "metadata": {},
   "outputs": [
    {
     "data": {
      "text/plain": [
       "70"
      ]
     },
     "execution_count": 222,
     "metadata": {},
     "output_type": "execute_result"
    }
   ],
   "source": [
    "5 + 12 + 21+ 32"
   ]
  },
  {
   "cell_type": "code",
   "execution_count": 224,
   "id": "033a6553-6c7a-4d42-a811-bd8b6a8050ac",
   "metadata": {},
   "outputs": [
    {
     "data": {
      "text/plain": [
       "70"
      ]
     },
     "execution_count": 224,
     "metadata": {},
     "output_type": "execute_result"
    }
   ],
   "source": [
    "np.dot(a,b)"
   ]
  },
  {
   "cell_type": "code",
   "execution_count": 243,
   "id": "32c2e987-3f18-403d-a349-46b239634e14",
   "metadata": {},
   "outputs": [
    {
     "data": {
      "text/plain": [
       "array([False,  True, False, False])"
      ]
     },
     "execution_count": 243,
     "metadata": {},
     "output_type": "execute_result"
    }
   ],
   "source": [
    "a == b"
   ]
  },
  {
   "cell_type": "code",
   "execution_count": 245,
   "id": "5f6a9dbf-9241-4ae1-8b62-9aa691be8334",
   "metadata": {},
   "outputs": [
    {
     "data": {
      "text/plain": [
       "array([1, 2, 3, 4])"
      ]
     },
     "execution_count": 245,
     "metadata": {},
     "output_type": "execute_result"
    }
   ],
   "source": [
    "a"
   ]
  },
  {
   "cell_type": "code",
   "execution_count": 247,
   "id": "4eb9eb22-e5b5-434b-8532-ba808afd9af9",
   "metadata": {},
   "outputs": [
    {
     "data": {
      "text/plain": [
       "array([ True,  True,  True, False])"
      ]
     },
     "execution_count": 247,
     "metadata": {},
     "output_type": "execute_result"
    }
   ],
   "source": [
    "a < 4"
   ]
  },
  {
   "cell_type": "code",
   "execution_count": 249,
   "id": "394c2335-3e3e-4dad-9159-4163ea5475cc",
   "metadata": {},
   "outputs": [
    {
     "data": {
      "text/plain": [
       "10"
      ]
     },
     "execution_count": 249,
     "metadata": {},
     "output_type": "execute_result"
    }
   ],
   "source": [
    "a.sum()"
   ]
  },
  {
   "cell_type": "code",
   "execution_count": 251,
   "id": "813925cc-33c6-40d3-82c9-5ef027bfe719",
   "metadata": {},
   "outputs": [
    {
     "data": {
      "text/plain": [
       "1"
      ]
     },
     "execution_count": 251,
     "metadata": {},
     "output_type": "execute_result"
    }
   ],
   "source": [
    "a.min()"
   ]
  },
  {
   "cell_type": "code",
   "execution_count": 253,
   "id": "c3b46b2a-239a-4a84-96bd-f352244e24ac",
   "metadata": {},
   "outputs": [
    {
     "data": {
      "text/plain": [
       "4"
      ]
     },
     "execution_count": 253,
     "metadata": {},
     "output_type": "execute_result"
    }
   ],
   "source": [
    "a.max()"
   ]
  },
  {
   "cell_type": "code",
   "execution_count": 255,
   "id": "77ce80c2-2593-4e5d-99e1-14a4d22cb437",
   "metadata": {},
   "outputs": [
    {
     "data": {
      "text/plain": [
       "array([[11, 10,  3,  4],\n",
       "       [ 9,  6,  7,  8]])"
      ]
     },
     "execution_count": 255,
     "metadata": {},
     "output_type": "execute_result"
    }
   ],
   "source": [
    "a  = np.array([[11,10,3,4],[9,6,7,8]])\n",
    "a"
   ]
  },
  {
   "cell_type": "code",
   "execution_count": 257,
   "id": "3fe5ac76-662a-4afa-95d2-84a79d34ad5c",
   "metadata": {},
   "outputs": [
    {
     "data": {
      "text/plain": [
       "11"
      ]
     },
     "execution_count": 257,
     "metadata": {},
     "output_type": "execute_result"
    }
   ],
   "source": [
    "a.max()"
   ]
  },
  {
   "cell_type": "code",
   "execution_count": 259,
   "id": "52089531-da11-46c8-96f8-1cd8fabb7f87",
   "metadata": {},
   "outputs": [
    {
     "data": {
      "text/plain": [
       "(2, 4)"
      ]
     },
     "execution_count": 259,
     "metadata": {},
     "output_type": "execute_result"
    }
   ],
   "source": [
    "a.shape"
   ]
  },
  {
   "cell_type": "code",
   "execution_count": 261,
   "id": "4e8c1022-1970-4bc5-8375-4a38bfebe6f5",
   "metadata": {},
   "outputs": [
    {
     "data": {
      "text/plain": [
       "array([11,  9])"
      ]
     },
     "execution_count": 261,
     "metadata": {},
     "output_type": "execute_result"
    }
   ],
   "source": [
    "a.max(axis = 1) #rows"
   ]
  },
  {
   "cell_type": "code",
   "execution_count": 263,
   "id": "8ef282c3-28aa-4169-b491-57b481c6d87d",
   "metadata": {},
   "outputs": [
    {
     "data": {
      "text/plain": [
       "array([11, 10,  7,  8])"
      ]
     },
     "execution_count": 263,
     "metadata": {},
     "output_type": "execute_result"
    }
   ],
   "source": [
    "a.max(axis = 0) #columns"
   ]
  },
  {
   "cell_type": "code",
   "execution_count": 275,
   "id": "b6bde0e0-7cb4-486b-bf5c-d064a719a8e1",
   "metadata": {},
   "outputs": [
    {
     "data": {
      "text/plain": [
       "array([ 1,  7,  9,  4, 10, 20])"
      ]
     },
     "execution_count": 275,
     "metadata": {},
     "output_type": "execute_result"
    }
   ],
   "source": [
    "arr= np.array([1,7,9,4,10,20])\n",
    "arr"
   ]
  },
  {
   "cell_type": "code",
   "execution_count": 279,
   "id": "88381705-69b0-4436-a597-e963e0889ea7",
   "metadata": {},
   "outputs": [
    {
     "data": {
      "text/plain": [
       "array([ 1,  8, 17, 21, 31, 51])"
      ]
     },
     "execution_count": 279,
     "metadata": {},
     "output_type": "execute_result"
    }
   ],
   "source": [
    "arr.cumsum()"
   ]
  },
  {
   "cell_type": "code",
   "execution_count": 303,
   "id": "ceec46bf-6b9f-4564-b86a-477fffef102c",
   "metadata": {},
   "outputs": [
    {
     "data": {
      "text/plain": [
       "array([ 1,  7,  9,  4, 10, 20])"
      ]
     },
     "execution_count": 303,
     "metadata": {},
     "output_type": "execute_result"
    }
   ],
   "source": [
    "arr"
   ]
  },
  {
   "cell_type": "code",
   "execution_count": 283,
   "id": "a7ba83a2-3cc3-4ba2-9862-a9de7b957c58",
   "metadata": {},
   "outputs": [
    {
     "data": {
      "text/plain": [
       "8.5"
      ]
     },
     "execution_count": 283,
     "metadata": {},
     "output_type": "execute_result"
    }
   ],
   "source": [
    "arr.mean()"
   ]
  },
  {
   "cell_type": "code",
   "execution_count": 285,
   "id": "5b8d82b4-2025-41d6-9bbf-5b9ab7160b86",
   "metadata": {},
   "outputs": [
    {
     "data": {
      "text/plain": [
       "8.0"
      ]
     },
     "execution_count": 285,
     "metadata": {},
     "output_type": "execute_result"
    }
   ],
   "source": [
    "np.median(arr)"
   ]
  },
  {
   "cell_type": "code",
   "execution_count": 287,
   "id": "a08e57ac-0201-488f-a5ce-0b8cef3346b3",
   "metadata": {},
   "outputs": [
    {
     "data": {
      "text/plain": [
       "5.9651767227244274"
      ]
     },
     "execution_count": 287,
     "metadata": {},
     "output_type": "execute_result"
    }
   ],
   "source": [
    "np.std(arr)"
   ]
  },
  {
   "cell_type": "code",
   "execution_count": 305,
   "id": "a2195d98-8c74-4e7e-b0eb-73f469315518",
   "metadata": {},
   "outputs": [
    {
     "data": {
      "text/plain": [
       "array([ 1,  7,  9,  4, 10, 20])"
      ]
     },
     "execution_count": 305,
     "metadata": {},
     "output_type": "execute_result"
    }
   ],
   "source": [
    "arr_veiw = arr.view()\n",
    "arr_veiw"
   ]
  },
  {
   "cell_type": "code",
   "execution_count": 307,
   "id": "9f9fd788-bb3d-462e-a62f-3f2ac9e28f66",
   "metadata": {},
   "outputs": [
    {
     "data": {
      "text/plain": [
       "array([ 1,  7,  9,  4, 10, 20])"
      ]
     },
     "execution_count": 307,
     "metadata": {},
     "output_type": "execute_result"
    }
   ],
   "source": [
    "arr_veiw"
   ]
  },
  {
   "cell_type": "code",
   "execution_count": 309,
   "id": "4325a728-4368-463c-8a44-44bba3d80dec",
   "metadata": {},
   "outputs": [],
   "source": [
    "arr_c = np.copy(arr)"
   ]
  },
  {
   "cell_type": "code",
   "execution_count": 311,
   "id": "cbe8a92e-025d-4b5b-9a00-3cd07e798608",
   "metadata": {},
   "outputs": [
    {
     "data": {
      "text/plain": [
       "array([ 1,  7,  9,  4, 10, 20])"
      ]
     },
     "execution_count": 311,
     "metadata": {},
     "output_type": "execute_result"
    }
   ],
   "source": [
    "arr_c"
   ]
  },
  {
   "cell_type": "code",
   "execution_count": 313,
   "id": "f647122e-994e-439e-a044-0c504c4c0328",
   "metadata": {},
   "outputs": [],
   "source": [
    "arr.sort()"
   ]
  },
  {
   "cell_type": "code",
   "execution_count": 315,
   "id": "164ffc95-58e8-4906-94ed-4620e3358956",
   "metadata": {},
   "outputs": [
    {
     "data": {
      "text/plain": [
       "array([ 1,  4,  7,  9, 10, 20])"
      ]
     },
     "execution_count": 315,
     "metadata": {},
     "output_type": "execute_result"
    }
   ],
   "source": [
    "arr"
   ]
  },
  {
   "cell_type": "code",
   "execution_count": 317,
   "id": "e79e8986-0ab8-46e0-9456-c82cbf643542",
   "metadata": {},
   "outputs": [
    {
     "data": {
      "text/plain": [
       "1"
      ]
     },
     "execution_count": 317,
     "metadata": {},
     "output_type": "execute_result"
    }
   ],
   "source": [
    "arr[0]"
   ]
  },
  {
   "cell_type": "code",
   "execution_count": 319,
   "id": "5d6c5eb0-fb7f-4175-bad4-28056470e5aa",
   "metadata": {},
   "outputs": [
    {
     "data": {
      "text/plain": [
       "array([4, 7, 9])"
      ]
     },
     "execution_count": 319,
     "metadata": {},
     "output_type": "execute_result"
    }
   ],
   "source": [
    "arr[1:4]"
   ]
  },
  {
   "cell_type": "code",
   "execution_count": 323,
   "id": "c29d7ade-3b92-4ce6-a8eb-54f9cdf7ebbc",
   "metadata": {},
   "outputs": [
    {
     "data": {
      "text/plain": [
       "array([20, 10,  9,  7,  4,  1])"
      ]
     },
     "execution_count": 323,
     "metadata": {},
     "output_type": "execute_result"
    }
   ],
   "source": [
    "arr[::-1]"
   ]
  },
  {
   "cell_type": "code",
   "execution_count": 325,
   "id": "e505a073-8cd8-4978-aba0-86c0950cb99e",
   "metadata": {},
   "outputs": [
    {
     "data": {
      "text/plain": [
       "array([1, 4])"
      ]
     },
     "execution_count": 325,
     "metadata": {},
     "output_type": "execute_result"
    }
   ],
   "source": [
    "arr[arr<5]"
   ]
  },
  {
   "cell_type": "code",
   "execution_count": 327,
   "id": "0b1f9291-e439-4978-8cec-ca5d563f8750",
   "metadata": {},
   "outputs": [
    {
     "data": {
      "text/plain": [
       "array([[1, 2, 3, 4],\n",
       "       [5, 6, 7, 8]])"
      ]
     },
     "execution_count": 327,
     "metadata": {},
     "output_type": "execute_result"
    }
   ],
   "source": [
    "arr = np.array([[1,2,3,4],[5,6,7,8]])\n",
    "arr"
   ]
  },
  {
   "cell_type": "code",
   "execution_count": 329,
   "id": "d934f547-5337-4eae-a953-bd81806e504d",
   "metadata": {},
   "outputs": [
    {
     "data": {
      "text/plain": [
       "array([[1, 5],\n",
       "       [2, 6],\n",
       "       [3, 7],\n",
       "       [4, 8]])"
      ]
     },
     "execution_count": 329,
     "metadata": {},
     "output_type": "execute_result"
    }
   ],
   "source": [
    "#transposed matrix , rows --> columns , columns-->rows\n",
    "arr_t = np.transpose(arr)\n",
    "arr_t"
   ]
  },
  {
   "cell_type": "code",
   "execution_count": 337,
   "id": "6ec1b156-bb04-481f-93df-5261bf8ed099",
   "metadata": {
    "scrolled": true
   },
   "outputs": [
    {
     "data": {
      "text/plain": [
       "array([[1, 5],\n",
       "       [2, 6],\n",
       "       [3, 7],\n",
       "       [4, 8]])"
      ]
     },
     "execution_count": 337,
     "metadata": {},
     "output_type": "execute_result"
    }
   ],
   "source": [
    "arr_t1 = arr.T\n",
    "arr_t1"
   ]
  },
  {
   "cell_type": "code",
   "execution_count": 347,
   "id": "19dd7f36-b144-4183-a8f5-29e9e06a932c",
   "metadata": {},
   "outputs": [
    {
     "data": {
      "text/plain": [
       "array([[1, 2, 3, 4],\n",
       "       [5, 6, 7, 8]])"
      ]
     },
     "execution_count": 347,
     "metadata": {},
     "output_type": "execute_result"
    }
   ],
   "source": [
    "arr"
   ]
  },
  {
   "cell_type": "code",
   "execution_count": 349,
   "id": "3ff6ca31-d893-4e54-9796-1a70b57bb624",
   "metadata": {},
   "outputs": [
    {
     "data": {
      "text/plain": [
       "array([1, 2, 3, 4, 5, 6, 7, 8])"
      ]
     },
     "execution_count": 349,
     "metadata": {},
     "output_type": "execute_result"
    }
   ],
   "source": [
    "#convert 2D array --> 1D array\n",
    "arr_1d = np.ravel(arr)\n",
    "arr_1d"
   ]
  },
  {
   "cell_type": "code",
   "execution_count": 343,
   "id": "73a599e5-7e1f-4003-9a6a-173747fc5299",
   "metadata": {},
   "outputs": [],
   "source": [
    "arr3 = np.array([[[1,2,3],[4,5,6]],[[1,2,3],[4,5,6]]])"
   ]
  },
  {
   "cell_type": "code",
   "execution_count": 351,
   "id": "4588fce6-b245-4e7e-a716-fa0af1b03525",
   "metadata": {},
   "outputs": [
    {
     "data": {
      "text/plain": [
       "array([1, 2, 3, 4, 5, 6, 1, 2, 3, 4, 5, 6])"
      ]
     },
     "execution_count": 351,
     "metadata": {},
     "output_type": "execute_result"
    }
   ],
   "source": [
    "#convert 3D array --> 1D array\n",
    "arr3_1d = np.ravel(arr3)\n",
    "arr3_1d"
   ]
  },
  {
   "cell_type": "code",
   "execution_count": 353,
   "id": "2d8a1150-f360-4bcb-bbac-d9d2958e050b",
   "metadata": {},
   "outputs": [
    {
     "data": {
      "text/plain": [
       "array([1, 2, 3, 4, 5, 6, 7, 8])"
      ]
     },
     "execution_count": 353,
     "metadata": {},
     "output_type": "execute_result"
    }
   ],
   "source": [
    "arr_1d"
   ]
  },
  {
   "cell_type": "code",
   "execution_count": 355,
   "id": "421de0f4-3835-4ee7-a3ad-7ba96a9581e7",
   "metadata": {},
   "outputs": [
    {
     "data": {
      "text/plain": [
       "array([[1, 2, 3, 4],\n",
       "       [5, 6, 7, 8]])"
      ]
     },
     "execution_count": 355,
     "metadata": {},
     "output_type": "execute_result"
    }
   ],
   "source": [
    "new_arr = arr_1d.reshape(2,4)\n",
    "new_arr"
   ]
  },
  {
   "cell_type": "code",
   "execution_count": 357,
   "id": "afe26ba8-cf75-4cc1-9456-d1562bc9d188",
   "metadata": {},
   "outputs": [
    {
     "data": {
      "text/plain": [
       "array([[1, 2],\n",
       "       [3, 4],\n",
       "       [5, 6],\n",
       "       [7, 8]])"
      ]
     },
     "execution_count": 357,
     "metadata": {},
     "output_type": "execute_result"
    }
   ],
   "source": [
    "new_arr1 = arr_1d.reshape(4,2)\n",
    "new_arr1"
   ]
  },
  {
   "cell_type": "code",
   "execution_count": 359,
   "id": "e5394e05-2435-41bf-85ff-0dca432c8cd1",
   "metadata": {},
   "outputs": [
    {
     "ename": "ValueError",
     "evalue": "cannot reshape array of size 8 into shape (5,3)",
     "output_type": "error",
     "traceback": [
      "\u001b[1;31m---------------------------------------------------------------------------\u001b[0m",
      "\u001b[1;31mValueError\u001b[0m                                Traceback (most recent call last)",
      "Cell \u001b[1;32mIn[359], line 1\u001b[0m\n\u001b[1;32m----> 1\u001b[0m new_arr1 \u001b[38;5;241m=\u001b[39m arr_1d\u001b[38;5;241m.\u001b[39mreshape(\u001b[38;5;241m5\u001b[39m,\u001b[38;5;241m3\u001b[39m)\n\u001b[0;32m      2\u001b[0m new_arr1\n",
      "\u001b[1;31mValueError\u001b[0m: cannot reshape array of size 8 into shape (5,3)"
     ]
    }
   ],
   "source": [
    "new_arr1 = arr_1d.reshape(5,3)\n",
    "new_arr1"
   ]
  },
  {
   "cell_type": "code",
   "execution_count": 370,
   "id": "bf722067-7c9a-4bb5-9ae3-1f5fc8ab8ae2",
   "metadata": {},
   "outputs": [
    {
     "data": {
      "text/plain": [
       "array([[9, 1],\n",
       "       [2, 3]])"
      ]
     },
     "execution_count": 370,
     "metadata": {},
     "output_type": "execute_result"
    }
   ],
   "source": [
    "a = np.array([[9,1],[2,3]])\n",
    "a"
   ]
  },
  {
   "cell_type": "code",
   "execution_count": 372,
   "id": "f8fb5a85-6ef7-4e13-87d7-d0216aca6207",
   "metadata": {},
   "outputs": [
    {
     "data": {
      "text/plain": [
       "array([[9, 1, 2],\n",
       "       [3, 9, 1],\n",
       "       [2, 3, 9]])"
      ]
     },
     "execution_count": 372,
     "metadata": {},
     "output_type": "execute_result"
    }
   ],
   "source": [
    "np.resize(a,(3,3))"
   ]
  },
  {
   "cell_type": "code",
   "execution_count": 374,
   "id": "0694e3eb-6217-44eb-834f-c00e40a57157",
   "metadata": {},
   "outputs": [
    {
     "data": {
      "text/plain": [
       "array([1, 2, 3, 4, 1])"
      ]
     },
     "execution_count": 374,
     "metadata": {},
     "output_type": "execute_result"
    }
   ],
   "source": [
    "a = np.array([1,2,3,4])\n",
    "a = np.append(a,(1))\n",
    "a"
   ]
  },
  {
   "cell_type": "code",
   "execution_count": 376,
   "id": "c8251263-4f7e-4612-b4d9-edf66409ba79",
   "metadata": {},
   "outputs": [
    {
     "data": {
      "text/plain": [
       "array([ 1,  2,  3,  4,  1,  7,  9, 10])"
      ]
     },
     "execution_count": 376,
     "metadata": {},
     "output_type": "execute_result"
    }
   ],
   "source": [
    "a = np.append(a,(7,9,10))\n",
    "a"
   ]
  },
  {
   "cell_type": "code",
   "execution_count": 380,
   "id": "29058cc7-4800-43e9-89d5-f3dd02b65672",
   "metadata": {},
   "outputs": [],
   "source": [
    "a  = np.insert(a,1,20)"
   ]
  },
  {
   "cell_type": "code",
   "execution_count": 382,
   "id": "444aa7d6-298c-4884-a1d4-2611241857f4",
   "metadata": {},
   "outputs": [
    {
     "data": {
      "text/plain": [
       "array([ 1, 20,  2,  3,  4,  1,  7,  9, 10])"
      ]
     },
     "execution_count": 382,
     "metadata": {},
     "output_type": "execute_result"
    }
   ],
   "source": [
    "a"
   ]
  },
  {
   "cell_type": "code",
   "execution_count": 386,
   "id": "201a19a5-b3a7-412e-8402-ae8c9c348c3b",
   "metadata": {},
   "outputs": [
    {
     "data": {
      "text/plain": [
       "array([40, 20,  2,  3,  4,  1,  7,  9, 10])"
      ]
     },
     "execution_count": 386,
     "metadata": {},
     "output_type": "execute_result"
    }
   ],
   "source": [
    "a[0] = 40\n",
    "a"
   ]
  },
  {
   "cell_type": "code",
   "execution_count": 388,
   "id": "6483d79d-e6c3-4174-a962-83fbda18f61e",
   "metadata": {},
   "outputs": [
    {
     "data": {
      "text/plain": [
       "array([40,  2,  3,  4,  1,  7,  9, 10])"
      ]
     },
     "execution_count": 388,
     "metadata": {},
     "output_type": "execute_result"
    }
   ],
   "source": [
    "a = np.delete(a,[1])\n",
    "a"
   ]
  },
  {
   "cell_type": "code",
   "execution_count": 390,
   "id": "22d334fb-f085-4c52-b31e-5fce5a09fb64",
   "metadata": {},
   "outputs": [
    {
     "data": {
      "text/plain": [
       "array([ 3,  4,  1,  7,  9, 10])"
      ]
     },
     "execution_count": 390,
     "metadata": {},
     "output_type": "execute_result"
    }
   ],
   "source": [
    "a = np.delete(a,[0,1])\n",
    "a"
   ]
  },
  {
   "cell_type": "code",
   "execution_count": null,
   "id": "64155d7e-a246-4e88-8195-6aeca2bd748d",
   "metadata": {},
   "outputs": [],
   "source": [
    "'''\n",
    "create array ---> 1d array (5,)\n",
    "1- append more than 2 items\n",
    "2- insert 30 in index 3\n",
    "3- replace item in index 0 ---> 'hello'\n",
    "4- delete item in index 2\n",
    "'''"
   ]
  }
 ],
 "metadata": {
  "kernelspec": {
   "display_name": "Python 3 (ipykernel)",
   "language": "python",
   "name": "python3"
  },
  "language_info": {
   "codemirror_mode": {
    "name": "ipython",
    "version": 3
   },
   "file_extension": ".py",
   "mimetype": "text/x-python",
   "name": "python",
   "nbconvert_exporter": "python",
   "pygments_lexer": "ipython3",
   "version": "3.12.4"
  }
 },
 "nbformat": 4,
 "nbformat_minor": 5
}
